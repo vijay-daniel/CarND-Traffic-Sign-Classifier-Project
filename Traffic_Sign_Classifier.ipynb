{
 "cells": [
  {
   "cell_type": "markdown",
   "metadata": {},
   "source": [
    "# Self-Driving Car Engineer Nanodegree\n",
    "\n",
    "## Deep Learning\n",
    "\n",
    "## Project: Build a Traffic Sign Recognition Classifier\n",
    "\n",
    "In this notebook, a template is provided for you to implement your functionality in stages, which is required to successfully complete this project. If additional code is required that cannot be included in the notebook, be sure that the Python code is successfully imported and included in your submission if necessary. \n",
    "\n",
    "> **Note**: Once you have completed all of the code implementations, you need to finalize your work by exporting the iPython Notebook as an HTML document. Before exporting the notebook to html, all of the code cells need to have been run so that reviewers can see the final implementation and output. You can then export the notebook by using the menu above and navigating to  \\n\",\n",
    "    \"**File -> Download as -> HTML (.html)**. Include the finished document along with this notebook as your submission. \n",
    "\n",
    "In addition to implementing code, there is a writeup to complete. The writeup should be completed in a separate file, which can be either a markdown file or a pdf document. There is a [write up template](https://github.com/udacity/CarND-Traffic-Sign-Classifier-Project/blob/master/writeup_template.md) that can be used to guide the writing process. Completing the code template and writeup template will cover all of the [rubric points](https://review.udacity.com/#!/rubrics/481/view) for this project.\n",
    "\n",
    "The [rubric](https://review.udacity.com/#!/rubrics/481/view) contains \"Stand Out Suggestions\" for enhancing the project beyond the minimum requirements. The stand out suggestions are optional. If you decide to pursue the \"stand out suggestions\", you can include the code in this Ipython notebook and also discuss the results in the writeup file.\n",
    "\n",
    "\n",
    ">**Note:** Code and Markdown cells can be executed using the **Shift + Enter** keyboard shortcut. In addition, Markdown cells can be edited by typically double-clicking the cell to enter edit mode."
   ]
  },
  {
   "cell_type": "markdown",
   "metadata": {},
   "source": [
    "## Timer Class for Benchmarking\n",
    "\n",
    "Taken from: http://howto.lintel.in/how-to-measure-the-duration-of-a-function-call-or-code-block-in-python/"
   ]
  },
  {
   "cell_type": "code",
   "execution_count": 1,
   "metadata": {
    "collapsed": true
   },
   "outputs": [],
   "source": [
    "import time\n",
    "\n",
    "class StopWatch:\n",
    "    def __init__(self):\n",
    "        self.start = None\n",
    "        self.end = None\n",
    "\n",
    "    def __enter__(self):\n",
    "        self.start = time.time()\n",
    "        return self\n",
    "\n",
    "    def __exit__(self, exc_type, exc_val, exc_tb):\n",
    "        self.end = time.time()\n",
    "        print(\"Total time taken: {:.2f} seconds\".format((self.end - self.start)))\n",
    "\n",
    "    def duration(self):\n",
    "        return str((self.end - self.start)) + ' seconds'"
   ]
  },
  {
   "cell_type": "markdown",
   "metadata": {},
   "source": [
    "---\n",
    "## Step 0: Load The Data"
   ]
  },
  {
   "cell_type": "code",
   "execution_count": 2,
   "metadata": {
    "collapsed": false
   },
   "outputs": [
    {
     "name": "stdout",
     "output_type": "stream",
     "text": [
      "Updated image shape:  (32, 32, 3)\n",
      "X_train:  (34799, 32, 32, 3) , X_validation:  (4410, 32, 32, 3) , X_test:  (12630, 32, 32, 3)\n",
      "y_train:  (34799,) , y_validation:  (4410,) , y_test:  (12630,)\n"
     ]
    }
   ],
   "source": [
    "# Load pickled data\n",
    "import pickle\n",
    "from sklearn.model_selection import train_test_split\n",
    "\n",
    "# TODO: Fill this in based on where you saved the training and testing data\n",
    "\n",
    "training_file = 'traffic-signs-data/train.p'\n",
    "testing_file = 'traffic-signs-data/test.p'\n",
    "validation_file = 'traffic-signs-data/valid.p'\n",
    "\n",
    "with open(training_file, mode='rb') as f:\n",
    "    train = pickle.load(f)\n",
    "with open(testing_file, mode='rb') as f:\n",
    "    test = pickle.load(f)\n",
    "with open(validation_file, mode='rb') as f:\n",
    "    validation = pickle.load(f)\n",
    "    \n",
    "clr_X_train, y_train = train['features'], train['labels']\n",
    "clr_X_test, y_test = test['features'], test['labels']\n",
    "clr_X_validation, y_validation = validation['features'], validation['labels']\n",
    "\n",
    "\n",
    "# X_train, X_validation, y_train, y_validation = train_test_split(X_train, y_train, test_size=0.2, random_state=0)\n",
    "\n",
    "print(\"Updated image shape: \", format(clr_X_train[0].shape))\n",
    "\n",
    "print(\"X_train: \", clr_X_train.shape, \", X_validation: \", clr_X_validation.shape, \", X_test: \", clr_X_test.shape)\n",
    "print(\"y_train: \", y_train.shape, \", y_validation: \", y_validation.shape, \", y_test: \", y_test.shape)"
   ]
  },
  {
   "cell_type": "markdown",
   "metadata": {},
   "source": [
    "---\n",
    "\n",
    "## Step 1: Dataset Summary & Exploration\n",
    "\n",
    "The pickled data is a dictionary with 4 key/value pairs:\n",
    "\n",
    "- `'features'` is a 4D array containing raw pixel data of the traffic sign images, (num examples, width, height, channels).\n",
    "- `'labels'` is a 1D array containing the label/class id of the traffic sign. The file `signnames.csv` contains id -> name mappings for each id.\n",
    "- `'sizes'` is a list containing tuples, (width, height) representing the the original width and height the image.\n",
    "- `'coords'` is a list containing tuples, (x1, y1, x2, y2) representing coordinates of a bounding box around the sign in the image. **THESE COORDINATES ASSUME THE ORIGINAL IMAGE. THE PICKLED DATA CONTAINS RESIZED VERSIONS (32 by 32) OF THESE IMAGES**\n",
    "\n",
    "Complete the basic data summary below. Use python, numpy and/or pandas methods to calculate the data summary rather than hard coding the results. For example, the [pandas shape method](http://pandas.pydata.org/pandas-docs/stable/generated/pandas.DataFrame.shape.html) might be useful for calculating some of the summary results. "
   ]
  },
  {
   "cell_type": "markdown",
   "metadata": {},
   "source": [
    "### Provide a Basic Summary of the Data Set Using Python, Numpy and/or Pandas"
   ]
  },
  {
   "cell_type": "code",
   "execution_count": 3,
   "metadata": {
    "collapsed": false
   },
   "outputs": [
    {
     "name": "stdout",
     "output_type": "stream",
     "text": [
      "Number of training examples = 34799\n",
      "Number of testing examples = 12630\n",
      "Image data shape (before preprocessing) = (32, 32, 3)\n",
      "Number of classes = 43\n"
     ]
    }
   ],
   "source": [
    "import numpy as np\n",
    "### Replace each question mark with the appropriate value. \n",
    "### Use python, pandas or numpy methods rather than hard coding the results\n",
    "\n",
    "# TODO: Number of training examples\n",
    "n_train = clr_X_train.shape[0]\n",
    "\n",
    "# TODO: Number of testing examples.\n",
    "n_test = clr_X_test.shape[0]\n",
    "\n",
    "# TODO: What's the shape of an traffic sign image?\n",
    "image_shape = clr_X_train[0].shape\n",
    "\n",
    "# TODO: How many unique classes/labels there are in the dataset.\n",
    "n_classes = np.unique(y_train).size\n",
    "\n",
    "print(\"Number of training examples =\", n_train)\n",
    "print(\"Number of testing examples =\", n_test)\n",
    "print(\"Image data shape (before preprocessing) =\", image_shape)\n",
    "print(\"Number of classes =\", n_classes)"
   ]
  },
  {
   "cell_type": "markdown",
   "metadata": {},
   "source": [
    "### Include an exploratory visualization of the dataset"
   ]
  },
  {
   "cell_type": "markdown",
   "metadata": {},
   "source": [
    "Visualize the German Traffic Signs Dataset using the pickled file(s). This is open ended, suggestions include: plotting traffic sign images, plotting the count of each sign, etc.\n",
    "\n",
    "The [Matplotlib](http://matplotlib.org/) [examples](http://matplotlib.org/examples/index.html) and [gallery](http://matplotlib.org/gallery.html) pages are a great resource for doing visualizations in Python.\n",
    "\n",
    "**NOTE:** It's recommended you start with something simple first. If you wish to do more, come back to it after you've completed the rest of the sections."
   ]
  },
  {
   "cell_type": "code",
   "execution_count": 4,
   "metadata": {
    "collapsed": false
   },
   "outputs": [
    {
     "data": {
      "image/png": "[encoded data removed]",
      "text/plain": [
       "<matplotlib.figure.Figure at 0x7f091d2b1eb8>"
      ]
     },
     "metadata": {},
     "output_type": "display_data"
    },
    {
     "name": "stdout",
     "output_type": "stream",
     "text": [
      "Min pixel for gray_image:  7\n",
      "Max pixel for gray_image:  66\n",
      "Min pixel for hist_image:  0\n",
      "Max pixel for hist_image:  255\n",
      "uint8\n",
      "Min pixel for norm_image:  0\n",
      "Max pixel for norm_image:  255\n",
      "Min pixel for norm_hist_image:  0\n",
      "Max pixel for norm_hist_image:  255\n",
      "39\n"
     ]
    },
    {
     "data": {
      "image/png": "[encoded data removed]",
      "text/plain": [
       "<matplotlib.figure.Figure at 0x7f0900dd3d30>"
      ]
     },
     "metadata": {},
     "output_type": "display_data"
    }
   ],
   "source": [
    "import random\n",
    "import cv2\n",
    "### Data exploration visualization code goes here.\n",
    "### Feel free to use as many code cells as needed.\n",
    "import matplotlib.pyplot as plt\n",
    "# Visualizations will be shown in the notebook.\n",
    "%matplotlib inline\n",
    "\n",
    "index = random.randint(0, len(clr_X_train))\n",
    "# image = X_train[index].squeeze()\n",
    "image = clr_X_train[index]\n",
    "\n",
    "plt.imshow(image)\n",
    "plt.show()\n",
    "\n",
    "\n",
    "gray_image = cv2.cvtColor(image, cv2.COLOR_BGR2GRAY)\n",
    "print(\"Min pixel for gray_image: \", np.min(gray_image))\n",
    "print(\"Max pixel for gray_image: \", np.max(gray_image))\n",
    "\n",
    "hist_image = cv2.equalizeHist(gray_image)\n",
    "print(\"Min pixel for hist_image: \", np.min(hist_image))\n",
    "print(\"Max pixel for hist_image: \", np.max(hist_image))\n",
    "\n",
    "print(gray_image.dtype)\n",
    "norm_image = cv2.normalize(gray_image, np.zeros(gray_image.shape), 0, 255, cv2.NORM_MINMAX, dtype=cv2.CV_8U)\n",
    "\n",
    "print(\"Min pixel for norm_image: \", np.min(norm_image))\n",
    "print(\"Max pixel for norm_image: \", np.max(norm_image))\n",
    "\n",
    "norm_hist_image = cv2.normalize(norm_image, np.zeros(gray_image.shape), 0, 255, cv2.NORM_MINMAX, dtype=cv2.CV_8U)\n",
    "print(\"Min pixel for norm_hist_image: \", np.min(norm_hist_image))\n",
    "print(\"Max pixel for norm_hist_image: \", np.max(norm_hist_image))\n",
    "\n",
    "\n",
    "print(y_train[index])\n",
    "\n",
    "# plt.figure(figsize=(10,10))\n",
    "plt.imshow(np.hstack((gray_image, hist_image, norm_image, norm_hist_image, norm_image-norm_hist_image)), cmap='gray')\n",
    "plt.show()"
   ]
  },
  {
   "cell_type": "markdown",
   "metadata": {},
   "source": [
    "----\n",
    "\n",
    "## Step 2: Design and Test a Model Architecture\n",
    "\n",
    "Design and implement a deep learning model that learns to recognize traffic signs. Train and test your model on the [German Traffic Sign Dataset](http://benchmark.ini.rub.de/?section=gtsrb&subsection=dataset).\n",
    "\n",
    "There are various aspects to consider when thinking about this problem:\n",
    "\n",
    "- Neural network architecture\n",
    "- Play around preprocessing techniques (normalization, rgb to grayscale, etc)\n",
    "- Number of examples per label (some have more than others).\n",
    "- Generate fake data.\n",
    "\n",
    "Here is an example of a [published baseline model on this problem](http://yann.lecun.com/exdb/publis/pdf/sermanet-ijcnn-11.pdf). It's not required to be familiar with the approach used in the paper but, it's good practice to try to read papers like these.\n",
    "\n",
    "**NOTE:** The LeNet-5 implementation shown in the [classroom](https://classroom.udacity.com/nanodegrees/nd013/parts/fbf77062-5703-404e-b60c-95b78b2f3f9e/modules/6df7ae49-c61c-4bb2-a23e-6527e69209ec/lessons/601ae704-1035-4287-8b11-e2c2716217ad/concepts/d4aca031-508f-4e0b-b493-e7b706120f81) at the end of the CNN lesson is a solid starting point. You'll have to change the number of classes and possibly the preprocessing, but aside from that it's plug and play!"
   ]
  },
  {
   "cell_type": "markdown",
   "metadata": {},
   "source": [
    "### Pre-process the Data Set (normalization, grayscale, etc.)"
   ]
  },
  {
   "cell_type": "markdown",
   "metadata": {},
   "source": [
    "Use the code cell (or multiple code cells, if necessary) to implement the first step of your project."
   ]
  },
  {
   "cell_type": "code",
   "execution_count": 5,
   "metadata": {
    "collapsed": false
   },
   "outputs": [
    {
     "name": "stdout",
     "output_type": "stream",
     "text": [
      "Preprocessing images\n",
      "Shape before preprocessing:  (34799, 32, 32, 3)\n",
      "Shape after preprocessing:  (34799, 32, 32, 1)\n",
      "Total time taken: 2.17 seconds\n",
      "Image shape (after preprocessing):  (32, 32, 1)\n"
     ]
    }
   ],
   "source": [
    "### Preprocess the data here. Preprocessing steps could include normalization, converting to grayscale, etc.\n",
    "### Feel free to use as many code cells as needed.\n",
    "\n",
    "import cv2\n",
    "\n",
    "def preprocess(img):\n",
    "    # Convert to grayscale\n",
    "    gray_image = cv2.cvtColor(img, cv2.COLOR_BGR2GRAY)\n",
    "    \n",
    "    # For some images, histogram equalization gives a better picture\n",
    "    hist_image = cv2.equalizeHist(gray_image)\n",
    "    \n",
    "    # We normalize in order to deal with overly bright or overly dark pictures\n",
    "    norm_image = cv2.normalize(gray_image, np.zeros(gray_image.shape), 0, 255, cv2.NORM_MINMAX, dtype=cv2.CV_8U)\n",
    "    \n",
    "    # Keep each version of the original as a separate channel\n",
    "    return np.stack([norm_image], axis = -1)\n",
    "\n",
    "def preprocess_list(images):\n",
    "    processed_images = [preprocess(img) for img in images]\n",
    "    return np.array(processed_images).reshape((images.shape[0],) + processed_images[0].shape)\n",
    "#     print(\"Shape image: \", [preprocess(img) for img in images][0].shape)\n",
    "#     return np.array([preprocess(img) for img in images]).reshape((images.shape[0],) + images[0].shape)\n",
    "#     return images\n",
    "\n",
    "print(\"Preprocessing images\")\n",
    "with StopWatch() as sw:\n",
    "#     X_train = X_train[:5]\n",
    "    print(\"Shape before preprocessing: \", clr_X_train.shape)\n",
    "    X_train = preprocess_list(clr_X_train)\n",
    "    print(\"Shape after preprocessing: \", X_train.shape)\n",
    "    X_test = preprocess_list(clr_X_test)\n",
    "    X_validation = preprocess_list(clr_X_validation)\n",
    "    \n",
    "image_shape = X_train[0].shape\n",
    "print(\"Image shape (after preprocessing): \", image_shape)"
   ]
  },
  {
   "cell_type": "markdown",
   "metadata": {},
   "source": [
    "## Visualize after preprocessing"
   ]
  },
  {
   "cell_type": "code",
   "execution_count": 6,
   "metadata": {
    "collapsed": false
   },
   "outputs": [
    {
     "name": "stdout",
     "output_type": "stream",
     "text": [
      "Image random index:  7967\n",
      "4\n",
      "(32, 32, 1)\n"
     ]
    }
   ],
   "source": [
    "import random\n",
    "import cv2\n",
    "### Data exploration visualization code goes here.\n",
    "### Feel free to use as many code cells as needed.\n",
    "import matplotlib.pyplot as plt\n",
    "# Visualizations will be shown in the notebook.\n",
    "%matplotlib inline\n",
    "\n",
    "index = random.randint(0, len(X_train))\n",
    "print(\"Image random index: \", index)\n",
    "# image = X_train[index].squeeze()\n",
    "# gray_image = X_train[index].squeeze()\n",
    "\n",
    "# print(gray_image.dtype)\n",
    "\n",
    "print(y_train[index])\n",
    "\n",
    "# plt.figure(figsize=(2,2))\n",
    "# plt.imshow(gray_image, cmap='gray')\n",
    "# plt.show()\n",
    "print(X_train[index].shape)\n",
    "# print(\"After squeezing:\", X_train[index][:,:,1].shape)\n",
    "# plt.imshow(X_train[index][:,:,:1].squeeze(), cmap='gray')\n",
    "# plt.show()\n",
    "\n",
    "# plt.imshow(np.hstack((X_train[index][:,:,0], X_train[index][:,:,1])), cmap='gray')\n",
    "# plt.show()\n"
   ]
  },
  {
   "cell_type": "markdown",
   "metadata": {},
   "source": [
    "## Pipeline\n",
    "\n",
    "The below section defines a pipeline for wiring up different layers. The pipeline has support for convolutions, pooling, flattening and fully connected layers.\n",
    "\n",
    "To add a new method to the pipeline, add a backing method with the actual parameters and (input, input_dimensions) as the last two parameters. Now, define a proxy method which returns a partial taking in the actual parameters. The pipeline wiring code will take care of passing (input, input_dimensions) across different layers. Each method in the pipeline is supposed to return (output, output_dimensions)."
   ]
  },
  {
   "cell_type": "code",
   "execution_count": 7,
   "metadata": {
    "collapsed": false
   },
   "outputs": [],
   "source": [
    "import tensorflow as tf\n",
    "from tensorflow.contrib.layers import flatten\n",
    "from functools import partial\n",
    "\n",
    "# Arguments used for tf.truncated_normal, randomly defines variables for the weights and biases for each layer\n",
    "mu = 0\n",
    "sigma = 0.1\n",
    "\n",
    "\"\"\"\n",
    "Returns the dimension after performing a kernel and stride operation.\n",
    "\"\"\"\n",
    "def dim_after_processing(input_dim, kernel_dim, stride_dim, output_depth):\n",
    "    if stride_dim == 1: \n",
    "        output_dim = int(input_dim[0] - kernel_dim + 1)\n",
    "    else:\n",
    "        output_dim = int(input_dim[0] / stride_dim)\n",
    "    return (output_dim, output_dim, output_depth)\n",
    "\n",
    "\"\"\"\n",
    "Performs a convolution with kernel size \"kernel_dim x kernel_dim\", stride \"stride_dim x stride_dim\" resulting in\n",
    "an output depth of \"output_depth\". A RELU is used for activation.\n",
    "\n",
    "The padding is hardcoded as \"VALID\", and the length and height, rather, the first 2 dimensions\n",
    "are assumed to be equal to each other.\n",
    "\"\"\"\n",
    "def conv(kernel_dim, output_depth, stride_dim, layer_id, conv_input, input_dim):\n",
    "    with tf.name_scope('conv_weights' + layer_id):\n",
    "        conv_weight = tf.Variable(tf.truncated_normal([kernel_dim, kernel_dim, input_dim[2], output_depth], mean=mu, stddev=sigma))\n",
    "        \n",
    "    with tf.name_scope('conv_biases' + layer_id):\n",
    "        conv_bias = tf.Variable(tf.zeros(output_depth))\n",
    "    \n",
    "    conv_layer = tf.nn.conv2d(conv_input, conv_weight, strides = [1, stride_dim, stride_dim, 1], padding='VALID')\n",
    "    conv_layer = tf.nn.bias_add(conv_layer, conv_bias)\n",
    "    \n",
    "    conv_layer = tf.nn.relu(conv_layer)\n",
    "    \n",
    "    output_dim = dim_after_processing(input_dim, kernel_dim, stride_dim, output_depth)\n",
    "    \n",
    "    tf.contrib.framework.add_model_variable(conv_weight)\n",
    "    tf.contrib.framework.add_model_variable(conv_bias)\n",
    "    \n",
    "    return conv_layer, output_dim\n",
    "\n",
    "\"\"\"\n",
    "Pipeline proxy method for convolutions\n",
    "\"\"\"\n",
    "def convp(kernel_dim, output_depth, stride_dim, layer_id = \"\"):\n",
    "    return partial(conv, kernel_dim, output_depth, stride_dim, layer_id)\n",
    "\n",
    "def fc(fc_output_dim, apply_relu, fc_input, input_dim):\n",
    "    with tf.name_scope('fc_weights'):\n",
    "        fc_weight = tf.Variable(tf.truncated_normal([input_dim, fc_output_dim], mean=mu, stddev=sigma))\n",
    "        \n",
    "    with tf.name_scope('fc_biases'):        \n",
    "        fc_bias = tf.Variable(tf.zeros(fc_output_dim))\n",
    "        \n",
    "    with tf.name_scope(\"fc_pre_activations\"):\n",
    "        fc_layer = tf.matmul(fc_input, fc_weight) + fc_bias\n",
    "        \n",
    "    if apply_relu:\n",
    "        fc_layer = tf.nn.relu(fc_layer)\n",
    "        \n",
    "    tf.contrib.framework.add_model_variable(fc_weight)\n",
    "    tf.contrib.framework.add_model_variable(fc_bias)\n",
    "    return fc_layer, fc_output_dim\n",
    "\n",
    "def fcp(output_dim, apply_relu=True):\n",
    "    return partial(fc, output_dim, apply_relu)\n",
    "\n",
    "def max_pool(kernel_dim, stride_dim, pool_input, input_dim):\n",
    "    pool_op = tf.nn.max_pool(pool_input, ksize = [1, kernel_dim, kernel_dim, 1], strides=[1, stride_dim, stride_dim, 1], padding='VALID')\n",
    "    return pool_op, dim_after_processing(input_dim, kernel_dim, stride_dim, input_dim[2])\n",
    "\n",
    "def max_poolp(kernel_dim, stride_dim):\n",
    "    return partial(max_pool, kernel_dim, stride_dim)\n",
    "\n",
    "def local_flatten(flatten_input, input_dim):\n",
    "    return flatten(flatten_input), input_dim[0]*input_dim[1]*input_dim[2]\n",
    "\n",
    "def local_flattenp():\n",
    "    return partial(local_flatten)\n",
    "\n",
    "def dropout(dropout_input, input_dim):\n",
    "    with tf.name_scope('dropout'):\n",
    "        return tf.nn.dropout(dropout_input, keep_prob), input_dim\n",
    "\n",
    "def dropoutp():\n",
    "    return partial(dropout)\n",
    "\n",
    "def run_pipeline(pipeline_input, input_dim, layers):\n",
    "    prev_input, prev_dim = pipeline_input, input_dim\n",
    "    for layer in layers:\n",
    "        prev_input, prev_dim = layer(prev_input, prev_dim)\n",
    "        \n",
    "    return prev_input\n",
    "\n"
   ]
  },
  {
   "cell_type": "markdown",
   "metadata": {},
   "source": [
    "### Model Architecture"
   ]
  },
  {
   "cell_type": "code",
   "execution_count": 8,
   "metadata": {
    "collapsed": false
   },
   "outputs": [],
   "source": [
    "def DNet(x): # 94.0\n",
    "    return run_pipeline(x, image_shape, #Input: 32x32xD\n",
    "    [\n",
    "        convp(3, 4, 1, \"1\"), # 30x30x4\n",
    "        convp(3, 8, 1, \"2\"), # 28x28x8\n",
    "        max_poolp(2, 2), # 14x14x8\n",
    "        convp(5, 32, 1, \"3\"), # 10x10x32\n",
    "        max_poolp(2, 2), # 5x5x32\n",
    "        local_flattenp(), # 800\n",
    "        fcp(300), # 84\n",
    "        fcp(150), # 84\n",
    "        dropoutp(), # 84\n",
    "        fcp(n_classes, False) # 43\n",
    "    ])\n",
    "\n",
    "\n",
    "def DNet_old8(x): # 94.0\n",
    "    return run_pipeline(x, image_shape, #Input: 32x32xD\n",
    "    [\n",
    "        convp(3, 4, 1, \"1\"), # 30x30x16\n",
    "        convp(3, 16, 1, \"2\"), # 28x28x16\n",
    "        max_poolp(2, 2), # 14x14x24\n",
    "        convp(5, 24, 1, \"3\"), # 10x10x24\n",
    "        max_poolp(2, 2), # 5x5x24\n",
    "        local_flattenp(), # 800\n",
    "        fcp(300), # 84\n",
    "        fcp(150), # 84\n",
    "        dropoutp(), # 84\n",
    "        fcp(n_classes, False) # 43\n",
    "    ])\n",
    "\n",
    "\n",
    "def DNet_old7(x): # 94.0\n",
    "    return run_pipeline(x, image_shape, #Input: 32x32xD\n",
    "    [\n",
    "        convp(3, 4, 1, \"1\"), # 30x30x16\n",
    "        convp(3, 16, 1, \"2\"), # 28x28x16\n",
    "        avg_poolp(2, 2), # 14x14x24\n",
    "        convp(5, 24, 1, \"3\"), # 10x10x24\n",
    "        max_poolp(2, 2), # 5x5x24\n",
    "        local_flattenp(), # 800\n",
    "        fcp(400), # 84\n",
    "        fcp(200), # 84\n",
    "        dropoutp(), # 84\n",
    "        fcp(n_classes, False) # 43\n",
    "    ])\n",
    "\n",
    "\n",
    "def DNet_old6(x): # 93.4\n",
    "    return run_pipeline(x, image_shape, #Input: 32x32xD\n",
    "    [\n",
    "        convp(3, 4, 1, \"1\"), # 30x30x16\n",
    "        convp(3, 24, 1, \"2\"), # 28x28x24\n",
    "        avg_poolp(2, 2), # 14x14x24\n",
    "        convp(5, 32, 1, \"3\"), # 10x10x32\n",
    "        max_poolp(2, 2), # 5x5x32\n",
    "        local_flattenp(), # 800\n",
    "        fcp(400), # 84\n",
    "        fcp(200), # 84\n",
    "        dropoutp(), # 84\n",
    "        fcp(n_classes, False) # 43\n",
    "    ])\n",
    "\n",
    "\n",
    "\n",
    "def DNet_old5(x): # 94.9\n",
    "    return run_pipeline(x, image_shape, #Input: 32x32xD\n",
    "    [\n",
    "        convp(3, 4, 1, \"1\"), # 30x30x16\n",
    "        convp(3, 24, 1, \"2\"), # 28x28x24\n",
    "        avg_poolp(2, 2), # 14x14x24\n",
    "        convp(5, 32, 1, \"3\"), # 10x10x32\n",
    "        avg_poolp(2, 2), # 5x5x32\n",
    "        local_flattenp(), # 800\n",
    "        fcp(400), # 84\n",
    "        fcp(200), # 84\n",
    "        dropoutp(), # 84\n",
    "        fcp(n_classes, False) # 43\n",
    "    ])\n",
    "\n",
    "def DNet_old4(x): # 95.0 accuracy\n",
    "    return run_pipeline(x, image_shape, #Input: 32x32xD\n",
    "    [\n",
    "        convp(3, 4, 1, \"1\"), # 30x30x16\n",
    "        convp(3, 24, 1, \"2\"), # 28x28x24\n",
    "        max_poolp(2, 2), # 14x14x24\n",
    "        convp(5, 32, 1, \"3\"), # 10x10x32\n",
    "        max_poolp(2, 2), # 5x5x32\n",
    "        local_flattenp(), # 800\n",
    "        fcp(400), # 84\n",
    "        fcp(200), # 84\n",
    "        dropoutp(), # 84\n",
    "        fcp(n_classes, False) # 43\n",
    "    ])\n",
    "\n",
    "\n",
    "def DNet_old3(x):\n",
    "    return run_pipeline(x, image_shape, #Input: 32x32xD\n",
    "    [\n",
    "        convp(3, 16, 1), # 30x30x16\n",
    "        convp(3, 32, 1), # 28x28x32\n",
    "        avg_poolp(2, 2), # 14x14x32\n",
    "        convp(5, 64, 1), # 10x10x64\n",
    "        avg_poolp(2, 2), # 5x5x64\n",
    "        local_flattenp(), # 1600\n",
    "        fcp(800), # 120\n",
    "        fcp(400), # 84\n",
    "        fcp(n_classes, False) # 43\n",
    "    ])\n",
    "\n",
    "def DNet_old2(x):\n",
    "    return run_pipeline(x, image_shape, #Input: 32x32xD\n",
    "    [\n",
    "        convp(3, 6, 1), # 30x30x6\n",
    "        convp(3, 12, 1), # 28x28x12\n",
    "        avg_poolp(2, 2), # 14x14x12\n",
    "        convp(5, 18, 1), # 10x10x18\n",
    "        avg_poolp(2, 2), # 5x5x18\n",
    "        local_flattenp(), # 900\n",
    "        fcp(450), # 120\n",
    "        fcp(225), # 84\n",
    "        fcp(n_classes, False) # 43\n",
    "    ])\n",
    "\n",
    "\"\"\"\n",
    "uses avg_poolp after the first 2 layers, and max_poolp\n",
    "\"\"\"\n",
    "def DNet_old(x):\n",
    "    return run_pipeline(x, image_shape, #Input: 32x32xD\n",
    "    [\n",
    "        convp(3, 6, 1), # 30x30x6\n",
    "        convp(3, 12, 1), # 28x28x12\n",
    "        avg_poolp(2, 2), # 14x14x12\n",
    "        convp(5, 18, 1), # 10x10x18\n",
    "        max_poolp(2, 2), # 5x5x18\n",
    "        local_flattenp(), # 900\n",
    "        fcp(450), # 120\n",
    "        fcp(225), # 84\n",
    "        fcp(n_classes, False) # 43\n",
    "    ])\n",
    "\n",
    "\n",
    "def LeNet(x):\n",
    "    return run_pipeline(x, image_shape, #Input: 32x32x1\n",
    "    [\n",
    "        convp(5, 6, 1), # 28x28x6\n",
    "        max_poolp(2, 2), # 14x14x6\n",
    "        convp(5, 16, 1), # 10x10x16\n",
    "        max_poolp(2, 2), # 5x5x16\n",
    "        local_flattenp(), # 400\n",
    "        fcp(200), # 120\n",
    "        fcp(100), # 84\n",
    "        fcp(n_classes, False) # 43\n",
    "    ])"
   ]
  },
  {
   "cell_type": "code",
   "execution_count": 9,
   "metadata": {
    "collapsed": true
   },
   "outputs": [],
   "source": [
    "# The original LeNet5 pipeline\n",
    "def LeNet_original(x):\n",
    "    return run_pipeline(x, image_shape, #Input: 32x32x1\n",
    "    [\n",
    "        convp(5, 6, 1), # 28x28x6\n",
    "        max_poolp(2, 2), # 14x14x6\n",
    "        convp(5, 16, 1), # 10x10x16\n",
    "        max_poolp(2, 2), # 5x5x16\n",
    "        local_flattenp(), # 400\n",
    "        fcp(120), # 120\n",
    "        fcp(84), # 84\n",
    "        fcp(n_classes, False) # 43\n",
    "    ])"
   ]
  },
  {
   "cell_type": "markdown",
   "metadata": {},
   "source": [
    "### Train, Validate and Test the Model"
   ]
  },
  {
   "cell_type": "markdown",
   "metadata": {},
   "source": [
    "A validation set can be used to assess how well the model is performing. A low accuracy on the training and validation\n",
    "sets imply underfitting. A high accuracy on the test set but low accuracy on the validation set implies overfitting."
   ]
  },
  {
   "cell_type": "code",
   "execution_count": 10,
   "metadata": {
    "collapsed": true
   },
   "outputs": [],
   "source": [
    "### Train your model here.\n",
    "### Calculate and report the accuracy on the training and validation set.\n",
    "### Once a final model architecture is selected, \n",
    "### the accuracy on the test set should be calculated and reported as well.\n",
    "### Feel free to use as many code cells as needed."
   ]
  },
  {
   "cell_type": "markdown",
   "metadata": {},
   "source": [
    "## Model Evaluation"
   ]
  },
  {
   "cell_type": "code",
   "execution_count": 11,
   "metadata": {
    "collapsed": false
   },
   "outputs": [],
   "source": [
    "def evaluate(X_data, y_data, batch_size):\n",
    "    num_examples = len(X_data)\n",
    "    total_accuracy = 0\n",
    "    sess = tf.get_default_session()\n",
    "    for offset in range(0, num_examples, batch_size):\n",
    "        batch_x, batch_y = X_data[offset:offset+batch_size], y_data[offset:offset+batch_size]\n",
    "        accuracy = sess.run(accuracy_operation, feed_dict={x: batch_x, y: batch_y, keep_prob: 1.0})\n",
    "        total_accuracy += (accuracy * len(batch_x))\n",
    "    return total_accuracy / num_examples"
   ]
  },
  {
   "cell_type": "markdown",
   "metadata": {},
   "source": [
    "# Training the Model"
   ]
  },
  {
   "cell_type": "code",
   "execution_count": 19,
   "metadata": {
    "collapsed": false,
    "scrolled": false
   },
   "outputs": [
    {
     "name": "stdout",
     "output_type": "stream",
     "text": [
      "Training...\n",
      "\n",
      "Starting EPOCH:  0\n",
      "Training...\n",
      "Total time taken: 2.13 seconds\n",
      "Validating...\n",
      "Validation Accuracy = 0.811\n",
      "Total time taken: 0.10 seconds\n",
      "\n",
      "Starting EPOCH:  1\n",
      "Training...\n",
      "Total time taken: 2.10 seconds\n",
      "Validating...\n",
      "Validation Accuracy = 0.845\n",
      "Total time taken: 0.09 seconds\n",
      "\n",
      "Saving the model...\n",
      "Model saved\n"
     ]
    }
   ],
   "source": [
    "from sklearn.utils import shuffle\n",
    "\n",
    "EPOCHS = 2\n",
    "BATCH_SIZE = 128\n",
    "\n",
    "# rate = 0.00170 # Original 0.001\n",
    "# rate = 0.00015\n",
    "rate = 0.0018\n",
    "\n",
    "# LR = 0.0018, KP = 0.5, Acc = 96.3\n",
    "\n",
    "tf.reset_default_graph()\n",
    "\n",
    "x = tf.placeholder(tf.float32, (None,) + image_shape)\n",
    "y = tf.placeholder(tf.int32, (None))\n",
    "keep_prob = tf.placeholder(tf.float32)\n",
    "one_hot_y = tf.one_hot(y, n_classes)\n",
    "\n",
    "logits = LeNet(x)\n",
    "\n",
    "with tf.name_scope(\"cross_entropy\"):\n",
    "    cross_entropy = tf.nn.softmax_cross_entropy_with_logits(logits, one_hot_y)\n",
    "    loss_operation = tf.reduce_mean(cross_entropy)\n",
    "    \n",
    "with tf.name_scope(\"train\"):\n",
    "    optimizer = tf.train.AdamOptimizer(learning_rate = rate)\n",
    "    training_operation = optimizer.minimize(loss_operation)\n",
    "\n",
    "with tf.name_scope(\"accuracy\"):\n",
    "    with tf.name_scope(\"correct_prediction\"):\n",
    "        correct_prediction = tf.equal(tf.argmax(logits, 1), tf.argmax(one_hot_y, 1))\n",
    "    with tf.name_scope(\"accuracy\"):\n",
    "        accuracy_operation = tf.reduce_mean(tf.cast(correct_prediction, tf.float32))\n",
    "\n",
    "model_file = \"./lenet-new-next\"\n",
    "\n",
    "with tf.Session() as sess:\n",
    "    sess.run(tf.global_variables_initializer())\n",
    "    num_examples = len(X_train)\n",
    "    \n",
    "    print(\"Training...\")\n",
    "    print()\n",
    "    for i in range(EPOCHS):\n",
    "        print(\"Starting EPOCH: \", i)\n",
    "        with StopWatch() as s:\n",
    "            print(\"Training...\")\n",
    "            X_train, y_train = shuffle(X_train, y_train)\n",
    "            for offset in range(0, num_examples, BATCH_SIZE):\n",
    "                end = offset + BATCH_SIZE\n",
    "                batch_x, batch_y = X_train[offset:end], y_train[offset:end]\n",
    "                sess.run(training_operation, {x: batch_x, y: batch_y, keep_prob: 0.4})\n",
    "        \n",
    "        with StopWatch() as s:\n",
    "            print(\"Validating...\")\n",
    "            validation_accuracy = evaluate(X_validation, y_validation, BATCH_SIZE)\n",
    "            print(\"Validation Accuracy = {:.3f}\".format(validation_accuracy))\n",
    "        print()\n",
    "        \n",
    "    print(\"Saving the model...\")\n",
    "    saver = tf.train.Saver()\n",
    "    saver.save(sess, model_file)\n",
    "    print(\"Model saved\")\n"
   ]
  },
  {
   "cell_type": "markdown",
   "metadata": {},
   "source": [
    "## Testing the Model\n",
    "\n",
    "We will use the test images to test the model"
   ]
  },
  {
   "cell_type": "code",
   "execution_count": 20,
   "metadata": {
    "collapsed": false
   },
   "outputs": [
    {
     "name": "stdout",
     "output_type": "stream",
     "text": [
      "Test Accuracy = 0.843\n"
     ]
    }
   ],
   "source": [
    "with tf.Session() as sess:\n",
    "    saver.restore(sess, model_file)\n",
    "\n",
    "    test_accuracy = evaluate(X_test, y_test, BATCH_SIZE)\n",
    "    print(\"Test Accuracy = {:.3f}\".format(test_accuracy))"
   ]
  },
  {
   "cell_type": "markdown",
   "metadata": {},
   "source": [
    "---\n",
    "\n",
    "## Step 3: Test a Model on New Images\n",
    "\n",
    "To give yourself more insight into how your model is working, download at least five pictures of German traffic signs from the web and use your model to predict the traffic sign type.\n",
    "\n",
    "You may find `signnames.csv` useful as it contains mappings from the class id (integer) to the actual sign name."
   ]
  },
  {
   "cell_type": "markdown",
   "metadata": {},
   "source": [
    "### Load and Output the Images"
   ]
  },
  {
   "cell_type": "code",
   "execution_count": 14,
   "metadata": {
    "collapsed": false
   },
   "outputs": [
    {
     "name": "stdout",
     "output_type": "stream",
     "text": [
      "['german-signs/27-Pedestrians-1-resized.png', 'german-signs/25-Road work-1-resized.png', 'german-signs/2-50limit-1-resized.png', 'german-signs/14-Stop-1-resized.png', 'german-signs/1-30limit-1-resized.png']\n",
      "german-signs/27-Pedestrians-1-resized.png :  (32, 32, 3)\n",
      "german-signs/25-Road work-1-resized.png :  (32, 32, 3)\n",
      "german-signs/2-50limit-1-resized.png :  (32, 32, 3)\n",
      "german-signs/14-Stop-1-resized.png :  (32, 32, 3)\n",
      "german-signs/1-30limit-1-resized.png :  (32, 32, 3)\n"
     ]
    },
    {
     "data": {
      "image/png": "[encoded data removed]",
      "text/plain": [
       "<matplotlib.figure.Figure at 0x7f0900d33e80>"
      ]
     },
     "metadata": {},
     "output_type": "display_data"
    },
    {
     "name": "stdout",
     "output_type": "stream",
     "text": [
      "Y-values:  [27, 25, 2, 14, 1]\n"
     ]
    }
   ],
   "source": [
    "### Load the images and plot them here.\n",
    "### Feel free to use as many code cells as needed.\n",
    "import cv2\n",
    "import os\n",
    "from os import listdir\n",
    "from os.path import isfile, join\n",
    "import numpy as np\n",
    "\n",
    "import matplotlib.pyplot as plt\n",
    "%matplotlib inline\n",
    "\n",
    "def load_image(im_path):\n",
    "    # Taken from: http://stackoverflow.com/questions/28670461/read-an-image-with-opencv-and-display-it-with-tkinter\n",
    "    img = cv2.imread(f)\n",
    "    b,g,r = cv2.split(img)\n",
    "    img = cv2.merge((r,g,b))\n",
    "    return img\n",
    "\n",
    "web_files_dir = \"german-signs\"\n",
    "web_files = [join(web_files_dir, f) for f in listdir(web_files_dir) if isfile(join(web_files_dir, f)) and not f.startswith(\".\")]\n",
    "print(web_files)\n",
    "\n",
    "### Load the images and plot them here.\n",
    "### Feel free to use as many code cells as needed.\n",
    "\n",
    "X_web_raw = []\n",
    "y_web_raw = []\n",
    "for f in web_files:\n",
    "    img = load_image(f)\n",
    "    print(f, \": \", img.shape)\n",
    "    X_web_raw.append(img)\n",
    "\n",
    "    _, file_name = os.path.split(f)\n",
    "    y_web_raw.append(int(file_name.split(\"-\")[0]))\n",
    "    \n",
    "    \n",
    "plt.imshow(np.hstack(X_web_raw))\n",
    "plt.show()\n",
    "\n",
    "print(\"Y-values: \", y_web_raw)\n",
    "\n"
   ]
  },
  {
   "cell_type": "markdown",
   "metadata": {},
   "source": [
    "### Predict the Sign Type for Each Image"
   ]
  },
  {
   "cell_type": "code",
   "execution_count": 37,
   "metadata": {
    "collapsed": false
   },
   "outputs": [
    {
     "name": "stdout",
     "output_type": "stream",
     "text": [
      "Web Shape:  (5, 32, 32, 3)   (5,)\n",
      "Train Shape:  (34799, 32, 32, 1)   (34799,)\n",
      "Web Shape after preprocessing:  (5, 32, 32, 1)   (5,)\n"
     ]
    }
   ],
   "source": [
    "X_web = np.array(X_web_raw)\n",
    "y_web = np.array(y_web_raw)\n",
    "\n",
    "print(\"Web Shape: \", X_web.shape, \" \", y_web.shape)\n",
    "print(\"Train Shape: \", X_train.shape, \" \", y_train.shape)\n",
    "\n",
    "X_web = preprocess_list(X_web)\n",
    "print(\"Web Shape after preprocessing: \", X_web.shape, \" \", y_web.shape)\n",
    "\n",
    "model_file = \"./lenet-new-next\""
   ]
  },
  {
   "cell_type": "code",
   "execution_count": 38,
   "metadata": {
    "collapsed": false
   },
   "outputs": [
    {
     "name": "stdout",
     "output_type": "stream",
     "text": [
      "Predictions:  [18 25  2 14  5]\n",
      "Total time taken: 0.35 seconds\n"
     ]
    }
   ],
   "source": [
    "### Run the predictions here and use the model to output the prediction for each image.\n",
    "### Make sure to pre-process the images with the same pre-processing pipeline used earlier.\n",
    "### Feel free to use as many code cells as needed.\n",
    "\n",
    "with StopWatch() as s:\n",
    "    with tf.Session() as sess:\n",
    "        saver.restore(sess, model_file)\n",
    "        sess = tf.get_default_session()\n",
    "        predictions = sess.run(tf.argmax(logits, 1), {x: X_web, y: y_web, keep_prob: 1.0})\n",
    "        print(\"Predictions: \", predictions)\n"
   ]
  },
  {
   "cell_type": "markdown",
   "metadata": {},
   "source": [
    "### Analyze Performance"
   ]
  },
  {
   "cell_type": "code",
   "execution_count": 36,
   "metadata": {
    "collapsed": false
   },
   "outputs": [
    {
     "name": "stdout",
     "output_type": "stream",
     "text": [
      "Accuracy: 0.6\n",
      "Total time taken: 0.28 seconds\n"
     ]
    }
   ],
   "source": [
    "### Calculate the accuracy for these 5 new images. \n",
    "### For example, if the model predicted 1 out of 5 signs correctly, it's 20% accurate on these new images.\n",
    "\n",
    "with StopWatch() as s:\n",
    "    with tf.Session() as sess:\n",
    "        saver.restore(sess, model_file)\n",
    "        sess = tf.get_default_session()\n",
    "        accuracy = sess.run(accuracy_operation, {x: X_web, y: y_web, keep_prob: 1.0})\n",
    "        print(\"Accuracy:\", accuracy)\n"
   ]
  },
  {
   "cell_type": "markdown",
   "metadata": {},
   "source": [
    "### Output Top 5 Softmax Probabilities For Each Image Found on the Web"
   ]
  },
  {
   "cell_type": "markdown",
   "metadata": {},
   "source": [
    "For each of the new images, print out the model's softmax probabilities to show the **certainty** of the model's predictions (limit the output to the top 5 probabilities for each image). [`tf.nn.top_k`](https://www.tensorflow.org/versions/r0.12/api_docs/python/nn.html#top_k) could prove helpful here. \n",
    "\n",
    "The example below demonstrates how tf.nn.top_k can be used to find the top k predictions for each image.\n",
    "\n",
    "`tf.nn.top_k` will return the values and indices (class ids) of the top k predictions. So if k=3, for each sign, it'll return the 3 largest probabilities (out of a possible 43) and the correspoding class ids.\n",
    "\n",
    "Take this numpy array as an example. The values in the array represent predictions. The array contains softmax probabilities for five candidate images with six possible classes. `tk.nn.top_k` is used to choose the three classes with the highest probability:\n",
    "\n",
    "```\n",
    "# (5, 6) array\n",
    "a = np.array([[ 0.24879643,  0.07032244,  0.12641572,  0.34763842,  0.07893497,\n",
    "         0.12789202],\n",
    "       [ 0.28086119,  0.27569815,  0.08594638,  0.0178669 ,  0.18063401,\n",
    "         0.15899337],\n",
    "       [ 0.26076848,  0.23664738,  0.08020603,  0.07001922,  0.1134371 ,\n",
    "         0.23892179],\n",
    "       [ 0.11943333,  0.29198961,  0.02605103,  0.26234032,  0.1351348 ,\n",
    "         0.16505091],\n",
    "       [ 0.09561176,  0.34396535,  0.0643941 ,  0.16240774,  0.24206137,\n",
    "         0.09155967]])\n",
    "```\n",
    "\n",
    "Running it through `sess.run(tf.nn.top_k(tf.constant(a), k=3))` produces:\n",
    "\n",
    "```\n",
    "TopKV2(values=array([[ 0.34763842,  0.24879643,  0.12789202],\n",
    "       [ 0.28086119,  0.27569815,  0.18063401],\n",
    "       [ 0.26076848,  0.23892179,  0.23664738],\n",
    "       [ 0.29198961,  0.26234032,  0.16505091],\n",
    "       [ 0.34396535,  0.24206137,  0.16240774]]), indices=array([[3, 0, 5],\n",
    "       [0, 1, 4],\n",
    "       [0, 5, 1],\n",
    "       [1, 3, 5],\n",
    "       [1, 4, 3]], dtype=int32))\n",
    "```\n",
    "\n",
    "Looking just at the first row we get `[ 0.34763842,  0.24879643,  0.12789202]`, you can confirm these are the 3 largest probabilities in `a`. You'll also notice `[3, 0, 5]` are the corresponding indices."
   ]
  },
  {
   "cell_type": "code",
   "execution_count": 31,
   "metadata": {
    "collapsed": false
   },
   "outputs": [
    {
     "name": "stdout",
     "output_type": "stream",
     "text": [
      "TopKV2(values=array([[ 35.67440796,  31.92297173,  31.2713623 ,  27.84963608,\n",
      "         25.71365356],\n",
      "       [ 13.23938751,  12.28219414,  11.81027412,  11.11252117,\n",
      "         10.41233349],\n",
      "       [ 23.25627518,  16.6557579 ,  13.72824574,  12.39695644,\n",
      "         10.19060326],\n",
      "       [ 15.63821411,   8.21959686,   7.66115284,   7.25040674,\n",
      "          6.81753016],\n",
      "       [ 14.91656399,  11.84192848,  10.70477676,   8.67999363,\n",
      "          7.61852646]], dtype=float32), indices=array([[18, 11, 27, 21, 23],\n",
      "       [25, 24, 21, 31, 29],\n",
      "       [ 2,  1, 31,  5,  6],\n",
      "       [14, 10, 31, 25, 23],\n",
      "       [ 5,  0, 31,  1, 37]], dtype=int32))\n",
      "Total time taken: 0.35 seconds\n"
     ]
    }
   ],
   "source": [
    "### Print out the top five softmax probabilities for the predictions on the German traffic sign images found on the web. \n",
    "### Feel free to use as many code cells as needed.\n",
    "\n",
    "with StopWatch() as s:\n",
    "    with tf.Session() as sess:\n",
    "        saver.restore(sess, model_file)\n",
    "        sess = tf.get_default_session()\n",
    "        top_5 = sess.run(tf.nn.top_k(logits, k = 5), {x: X_web, y: y_web, keep_prob: 1.0})\n",
    "        print(top_5)\n"
   ]
  },
  {
   "cell_type": "markdown",
   "metadata": {},
   "source": [
    "> **Note**: Once you have completed all of the code implementations, you need to finalize your work by exporting the IPython Notebook as an HTML document. Before exporting the notebook to html, all of the code cells need to have been run. You can then export the notebook by using the menu above and navigating to  \\n\",\n",
    "    \"**File -> Download as -> HTML (.html)**. Include the finished document along with this notebook as your submission. "
   ]
  },
  {
   "cell_type": "markdown",
   "metadata": {},
   "source": [
    "### Project Writeup\n",
    "\n",
    "Once you have completed the code implementation, document your results in a project writeup using this [template](https://github.com/udacity/CarND-Traffic-Sign-Classifier-Project/blob/master/writeup_template.md) as a guide. The writeup can be in a markdown or pdf file. "
   ]
  }
 ],
 "metadata": {
  "anaconda-cloud": {},
  "kernelspec": {
   "display_name": "Python 3",
   "language": "python",
   "name": "python3"
  },
  "language_info": {
   "codemirror_mode": {
    "name": "ipython",
    "version": 3
   },
   "file_extension": ".py",
   "mimetype": "text/x-python",
   "name": "python",
   "nbconvert_exporter": "python",
   "pygments_lexer": "ipython3",
   "version": "3.5.2"
  },
  "widgets": {
   "state": {},
   "version": "1.1.2"
  }
 },
 "nbformat": 4,
 "nbformat_minor": 1
}
